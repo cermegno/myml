{
 "cells": [
  {
   "cell_type": "markdown",
   "id": "5a72e4bf",
   "metadata": {},
   "source": [
    "# ACME Sales Data Analysis \n",
    "This notebook crunches the quarterly sales data of our ABC division at ACME inc\n",
    "## Collect sales data\n",
    "Let's start by importing the Sales data from the data directory into a Pandas dataframe"
   ]
  },
  {
   "cell_type": "code",
   "execution_count": 12,
   "id": "fca2d21a",
   "metadata": {},
   "outputs": [
    {
     "data": {
      "text/html": [
       "<div>\n",
       "<style scoped>\n",
       "    .dataframe tbody tr th:only-of-type {\n",
       "        vertical-align: middle;\n",
       "    }\n",
       "\n",
       "    .dataframe tbody tr th {\n",
       "        vertical-align: top;\n",
       "    }\n",
       "\n",
       "    .dataframe thead th {\n",
       "        text-align: right;\n",
       "    }\n",
       "</style>\n",
       "<table border=\"1\" class=\"dataframe\">\n",
       "  <thead>\n",
       "    <tr style=\"text-align: right;\">\n",
       "      <th></th>\n",
       "      <th>Date</th>\n",
       "      <th>Product</th>\n",
       "      <th>UnitPrice</th>\n",
       "      <th>Quantity</th>\n",
       "      <th>Revenue</th>\n",
       "      <th>Profit</th>\n",
       "      <th>Rep</th>\n",
       "    </tr>\n",
       "  </thead>\n",
       "  <tbody>\n",
       "    <tr>\n",
       "      <th>0</th>\n",
       "      <td>2023-02-01</td>\n",
       "      <td>Blue chair</td>\n",
       "      <td>20</td>\n",
       "      <td>8</td>\n",
       "      <td>160</td>\n",
       "      <td>132</td>\n",
       "      <td>Joe</td>\n",
       "    </tr>\n",
       "    <tr>\n",
       "      <th>1</th>\n",
       "      <td>2023-02-01</td>\n",
       "      <td>Square table</td>\n",
       "      <td>54</td>\n",
       "      <td>3</td>\n",
       "      <td>162</td>\n",
       "      <td>110</td>\n",
       "      <td>Peter</td>\n",
       "    </tr>\n",
       "    <tr>\n",
       "      <th>2</th>\n",
       "      <td>2023-02-01</td>\n",
       "      <td>Red chair</td>\n",
       "      <td>27</td>\n",
       "      <td>10</td>\n",
       "      <td>270</td>\n",
       "      <td>202</td>\n",
       "      <td>Jessica</td>\n",
       "    </tr>\n",
       "    <tr>\n",
       "      <th>3</th>\n",
       "      <td>2023-02-01</td>\n",
       "      <td>Short lamp</td>\n",
       "      <td>49</td>\n",
       "      <td>4</td>\n",
       "      <td>196</td>\n",
       "      <td>139</td>\n",
       "      <td>Jennifer</td>\n",
       "    </tr>\n",
       "    <tr>\n",
       "      <th>4</th>\n",
       "      <td>2023-02-08</td>\n",
       "      <td>Blue chair</td>\n",
       "      <td>20</td>\n",
       "      <td>9</td>\n",
       "      <td>180</td>\n",
       "      <td>153</td>\n",
       "      <td>Tom</td>\n",
       "    </tr>\n",
       "  </tbody>\n",
       "</table>\n",
       "</div>"
      ],
      "text/plain": [
       "         Date       Product  UnitPrice  Quantity  Revenue  Profit       Rep\n",
       "0  2023-02-01    Blue chair         20         8      160     132       Joe\n",
       "1  2023-02-01  Square table         54         3      162     110     Peter\n",
       "2  2023-02-01     Red chair         27        10      270     202   Jessica\n",
       "3  2023-02-01    Short lamp         49         4      196     139  Jennifer\n",
       "4  2023-02-08    Blue chair         20         9      180     153       Tom"
      ]
     },
     "execution_count": 12,
     "metadata": {},
     "output_type": "execute_result"
    }
   ],
   "source": [
    "import pandas as pd\n",
    "# In the future I need to read from Isilon mount so it is better to mount on /root/ml-env/data\n",
    "df = pd.read_csv('data/sales.csv')\n",
    "df.head()"
   ]
  },
  {
   "cell_type": "markdown",
   "id": "44c7f12a",
   "metadata": {},
   "source": [
    "We need to change the Date column type to \"Datetime\" "
   ]
  },
  {
   "cell_type": "code",
   "execution_count": 34,
   "id": "38d9100f",
   "metadata": {},
   "outputs": [
    {
     "name": "stdout",
     "output_type": "stream",
     "text": [
      "Date         datetime64[ns]\n",
      "Product              object\n",
      "UnitPrice             int64\n",
      "Quantity              int64\n",
      "Revenue               int64\n",
      "Profit                int64\n",
      "Rep                  object\n",
      "dtype: object\n"
     ]
    }
   ],
   "source": [
    "df[\"Date\"] = pd.to_datetime(df[\"Date\"])\n",
    "print(df.dtypes)"
   ]
  },
  {
   "cell_type": "markdown",
   "id": "0f59ef17",
   "metadata": {},
   "source": [
    "## Amount of sales transactions\n",
    "Let's see how many sales transactions we got"
   ]
  },
  {
   "cell_type": "code",
   "execution_count": 35,
   "id": "8908d03a",
   "metadata": {},
   "outputs": [
    {
     "name": "stdout",
     "output_type": "stream",
     "text": [
      "The data contains 52 sales transactions\n"
     ]
    }
   ],
   "source": [
    "print(\"The data contains\",len(df),\"sales transactions\")"
   ]
  },
  {
   "cell_type": "markdown",
   "id": "32887766",
   "metadata": {},
   "source": [
    "## Top sales rep\n",
    "We find out what sales rep was the performer this quarter"
   ]
  },
  {
   "cell_type": "code",
   "execution_count": 38,
   "id": "fb86cfb7",
   "metadata": {},
   "outputs": [
    {
     "data": {
      "text/html": [
       "<div>\n",
       "<style scoped>\n",
       "    .dataframe tbody tr th:only-of-type {\n",
       "        vertical-align: middle;\n",
       "    }\n",
       "\n",
       "    .dataframe tbody tr th {\n",
       "        vertical-align: top;\n",
       "    }\n",
       "\n",
       "    .dataframe thead th {\n",
       "        text-align: right;\n",
       "    }\n",
       "</style>\n",
       "<table border=\"1\" class=\"dataframe\">\n",
       "  <thead>\n",
       "    <tr style=\"text-align: right;\">\n",
       "      <th></th>\n",
       "      <th>Profit</th>\n",
       "      <th>Revenue</th>\n",
       "    </tr>\n",
       "    <tr>\n",
       "      <th>Rep</th>\n",
       "      <th></th>\n",
       "      <th></th>\n",
       "    </tr>\n",
       "  </thead>\n",
       "  <tbody>\n",
       "    <tr>\n",
       "      <th>Joe</th>\n",
       "      <td>3693</td>\n",
       "      <td>4886</td>\n",
       "    </tr>\n",
       "    <tr>\n",
       "      <th>Louis</th>\n",
       "      <td>1433</td>\n",
       "      <td>1784</td>\n",
       "    </tr>\n",
       "    <tr>\n",
       "      <th>Jessica</th>\n",
       "      <td>1176</td>\n",
       "      <td>1603</td>\n",
       "    </tr>\n",
       "    <tr>\n",
       "      <th>Jennifer</th>\n",
       "      <td>887</td>\n",
       "      <td>1225</td>\n",
       "    </tr>\n",
       "    <tr>\n",
       "      <th>Peter</th>\n",
       "      <td>734</td>\n",
       "      <td>1080</td>\n",
       "    </tr>\n",
       "  </tbody>\n",
       "</table>\n",
       "</div>"
      ],
      "text/plain": [
       "          Profit  Revenue\n",
       "Rep                      \n",
       "Joe         3693     4886\n",
       "Louis       1433     1784\n",
       "Jessica     1176     1603\n",
       "Jennifer     887     1225\n",
       "Peter        734     1080"
      ]
     },
     "execution_count": 38,
     "metadata": {},
     "output_type": "execute_result"
    }
   ],
   "source": [
    "revenue_by_rep = df[[\"Profit\",\"Revenue\",\"Rep\"]].groupby(\"Rep\").sum().sort_values(by=[\"Profit\"],ascending=False)\n",
    "revenue_by_rep.head()"
   ]
  },
  {
   "cell_type": "markdown",
   "id": "7b34a848",
   "metadata": {},
   "source": [
    "## Weekly revenue\n",
    "Let's find out the weekly revenue"
   ]
  },
  {
   "cell_type": "code",
   "execution_count": 20,
   "id": "2e857d57",
   "metadata": {},
   "outputs": [
    {
     "data": {
      "text/html": [
       "<div>\n",
       "<style scoped>\n",
       "    .dataframe tbody tr th:only-of-type {\n",
       "        vertical-align: middle;\n",
       "    }\n",
       "\n",
       "    .dataframe tbody tr th {\n",
       "        vertical-align: top;\n",
       "    }\n",
       "\n",
       "    .dataframe thead th {\n",
       "        text-align: right;\n",
       "    }\n",
       "</style>\n",
       "<table border=\"1\" class=\"dataframe\">\n",
       "  <thead>\n",
       "    <tr style=\"text-align: right;\">\n",
       "      <th></th>\n",
       "      <th>Profit</th>\n",
       "      <th>Revenue</th>\n",
       "    </tr>\n",
       "    <tr>\n",
       "      <th>Date</th>\n",
       "      <th></th>\n",
       "      <th></th>\n",
       "    </tr>\n",
       "  </thead>\n",
       "  <tbody>\n",
       "    <tr>\n",
       "      <th>2023-02-01</th>\n",
       "      <td>583</td>\n",
       "      <td>788</td>\n",
       "    </tr>\n",
       "    <tr>\n",
       "      <th>2023-02-08</th>\n",
       "      <td>889</td>\n",
       "      <td>1133</td>\n",
       "    </tr>\n",
       "    <tr>\n",
       "      <th>2023-02-15</th>\n",
       "      <td>625</td>\n",
       "      <td>878</td>\n",
       "    </tr>\n",
       "    <tr>\n",
       "      <th>2023-02-22</th>\n",
       "      <td>474</td>\n",
       "      <td>617</td>\n",
       "    </tr>\n",
       "    <tr>\n",
       "      <th>2023-03-01</th>\n",
       "      <td>697</td>\n",
       "      <td>932</td>\n",
       "    </tr>\n",
       "    <tr>\n",
       "      <th>2023-03-08</th>\n",
       "      <td>664</td>\n",
       "      <td>949</td>\n",
       "    </tr>\n",
       "    <tr>\n",
       "      <th>2023-03-15</th>\n",
       "      <td>725</td>\n",
       "      <td>949</td>\n",
       "    </tr>\n",
       "    <tr>\n",
       "      <th>2023-03-22</th>\n",
       "      <td>791</td>\n",
       "      <td>1070</td>\n",
       "    </tr>\n",
       "    <tr>\n",
       "      <th>2023-03-29</th>\n",
       "      <td>668</td>\n",
       "      <td>920</td>\n",
       "    </tr>\n",
       "    <tr>\n",
       "      <th>2023-04-05</th>\n",
       "      <td>450</td>\n",
       "      <td>647</td>\n",
       "    </tr>\n",
       "    <tr>\n",
       "      <th>2023-04-12</th>\n",
       "      <td>748</td>\n",
       "      <td>948</td>\n",
       "    </tr>\n",
       "    <tr>\n",
       "      <th>2023-04-19</th>\n",
       "      <td>836</td>\n",
       "      <td>982</td>\n",
       "    </tr>\n",
       "    <tr>\n",
       "      <th>2023-04-26</th>\n",
       "      <td>542</td>\n",
       "      <td>790</td>\n",
       "    </tr>\n",
       "  </tbody>\n",
       "</table>\n",
       "</div>"
      ],
      "text/plain": [
       "            Profit  Revenue\n",
       "Date                       \n",
       "2023-02-01     583      788\n",
       "2023-02-08     889     1133\n",
       "2023-02-15     625      878\n",
       "2023-02-22     474      617\n",
       "2023-03-01     697      932\n",
       "2023-03-08     664      949\n",
       "2023-03-15     725      949\n",
       "2023-03-22     791     1070\n",
       "2023-03-29     668      920\n",
       "2023-04-05     450      647\n",
       "2023-04-12     748      948\n",
       "2023-04-19     836      982\n",
       "2023-04-26     542      790"
      ]
     },
     "execution_count": 20,
     "metadata": {},
     "output_type": "execute_result"
    }
   ],
   "source": [
    "df[\"Date\"] = pd.to_datetime(df[\"Date\"])\n",
    "#print(df.dtypes)\n",
    "revenue_by_week = df[[\"Date\",\"Profit\",\"Revenue\"]].groupby(\"Date\").sum().sort_values(by=[\"Date\"],ascending=True)\n",
    "revenue_by_week"
   ]
  },
  {
   "cell_type": "markdown",
   "id": "8a7d7cf5",
   "metadata": {},
   "source": [
    "## Average weekly revenue"
   ]
  },
  {
   "cell_type": "code",
   "execution_count": 31,
   "id": "09dcb9b0",
   "metadata": {},
   "outputs": [
    {
     "name": "stdout",
     "output_type": "stream",
     "text": [
      "The average daily revenue for this quarter was AUD 892.5384615384615\n"
     ]
    }
   ],
   "source": [
    "import numpy as np\n",
    "#df[\"Revenue\"]\n",
    "revenue = revenue_by_week[\"Revenue\"].tolist()\n",
    "averageRevenue = np.average(revenue)\n",
    "print(\"The average weekly revenue for this quarter was AUD\", averageRevenue)"
   ]
  },
  {
   "cell_type": "code",
   "execution_count": 39,
   "id": "02a83d1b",
   "metadata": {},
   "outputs": [
    {
     "data": {
      "image/png": "[encoded data removed]",
      "text/plain": [
       "<Figure size 432x288 with 1 Axes>"
      ]
     },
     "metadata": {
      "needs_background": "light"
     },
     "output_type": "display_data"
    }
   ],
   "source": [
    "import matplotlib.pyplot as plt\n",
    "weeks = np.arange(1,14,1)\n",
    "fig, ax = plt.subplots()\n",
    "ax.plot(weeks, revenue)\n",
    "\n",
    "ax.set(xlabel='week number', ylabel='Sales (AUD)',\n",
    "       title='Evolution of ABC sales weekly')\n",
    "ax.grid()\n",
    "\n",
    "fig.savefig(\"test.png\")\n",
    "plt.show()"
   ]
  }
 ],
 "metadata": {
  "kernelspec": {
   "display_name": "Python 3",
   "language": "python",
   "name": "python3"
  },
  "language_info": {
   "codemirror_mode": {
    "name": "ipython",
    "version": 3
   },
   "file_extension": ".py",
   "mimetype": "text/x-python",
   "name": "python",
   "nbconvert_exporter": "python",
   "pygments_lexer": "ipython3",
   "version": "3.6.8"
  }
 },
 "nbformat": 4,
 "nbformat_minor": 5
}
